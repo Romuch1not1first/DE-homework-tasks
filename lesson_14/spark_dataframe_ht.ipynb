{
 "cells": [
  {
   "cell_type": "code",
   "execution_count": 25,
   "metadata": {},
   "outputs": [],
   "source": [
    "from pyspark.sql import SparkSession, functions as F, types as T"
   ]
  },
  {
   "cell_type": "code",
   "execution_count": 26,
   "metadata": {
    "collapsed": false,
    "jupyter": {
     "outputs_hidden": false
    },
    "pycharm": {
     "is_executing": true
    }
   },
   "outputs": [],
   "source": [
    "spark = SparkSession.builder.master('local[*]').getOrCreate()"
   ]
  },
  {
   "cell_type": "code",
   "execution_count": 27,
   "metadata": {
    "collapsed": false,
    "jupyter": {
     "outputs_hidden": false
    }
   },
   "outputs": [
    {
     "name": "stdout",
     "output_type": "stream",
     "text": [
      "3.4.1\n"
     ]
    }
   ],
   "source": [
    "print(spark.version)"
   ]
  },
  {
   "cell_type": "code",
   "execution_count": 28,
   "metadata": {
    "collapsed": false,
    "jupyter": {
     "outputs_hidden": false
    }
   },
   "outputs": [],
   "source": [
    "actor_df = spark.read.csv('./data/actor.csv', header=True, inferSchema=True)\n",
    "address_df = spark.read.csv('./data/address.csv', header=True, inferSchema=True)\n",
    "category_df = spark.read.csv('./data/category.csv', header=True, inferSchema=True)\n",
    "city_df = spark.read.csv('./data/city.csv', header=True, inferSchema=True)\n",
    "country_df = spark.read.csv('./data/country.csv', header=True, inferSchema=True)\n",
    "customer_df = spark.read.csv('./data/customer.csv', header=True, inferSchema=True)\n",
    "film_df = spark.read.csv('./data/film.csv', header=True, inferSchema=True)\n",
    "film_actor_df = spark.read.csv('./data/film_actor.csv', header=True, inferSchema=True)\n",
    "film_category_df = spark.read.csv('./data/film_category.csv', header=True, inferSchema=True)\n",
    "inventory_df = spark.read.csv('./data/inventory.csv', header=True, inferSchema=True)\n",
    "language_df = spark.read.csv('./data/language.csv', header=True, inferSchema=True)\n",
    "payment_df = spark.read.csv('./data/payment.csv', header=True, inferSchema=True)\n",
    "rental_df = spark.read.csv('./data/rental.csv', header=True, inferSchema=True)\n",
    "staff_df = spark.read.csv('./data/staff.csv', header=True, inferSchema=True)\n",
    "store_df = spark.read.csv('./data/store.csv', header=True, inferSchema=True)"
   ]
  },
  {
   "cell_type": "markdown",
   "metadata": {
    "collapsed": false,
    "jupyter": {
     "outputs_hidden": false
    }
   },
   "source": [
    "# Домашнє завдання на тему Spark SQL\n",
    "\n",
    "Задачі з домашнього завдання на SQL потрібно розвʼязати за допомогою Spark SQL DataFrame API.\n",
    "\n",
    "- Дампи таблиць знаходяться в папці `data`. Датафрейми таблиць вже створені в клітинці вище.\n",
    "- Можете створювати стільки нових клітинок, скільки вам необхідно.\n",
    "- Розвʼязок кожної задачі має бути відображений в самому файлі (використати метод `.show()`)\n",
    "- код має бути оформлений у відповідності із одним із стилем, показаним лектором на занятті 13.\n",
    "\n",
    "**Увага!**\n",
    "Використовувати мову запитів SQL безпосередньо забороняється, потрібно використовувати виключно DataFrame API!\n"
   ]
  },
  {
   "cell_type": "markdown",
   "metadata": {
    "collapsed": false,
    "jupyter": {
     "outputs_hidden": false
    }
   },
   "source": [
    "1.\n",
    "Вивести кількість фільмів в кожній категорії.\n",
    "Результат відсортувати за спаданням."
   ]
  },
  {
   "cell_type": "code",
   "execution_count": 29,
   "metadata": {
    "collapsed": false,
    "jupyter": {
     "outputs_hidden": false
    }
   },
   "outputs": [
    {
     "name": "stdout",
     "output_type": "stream",
     "text": [
      "+-----------+-----+\n",
      "|category_id|count|\n",
      "+-----------+-----+\n",
      "|         15|   74|\n",
      "|          9|   73|\n",
      "|          8|   69|\n",
      "|          6|   68|\n",
      "|          2|   66|\n",
      "|          1|   64|\n",
      "|         13|   63|\n",
      "|          7|   62|\n",
      "|         10|   61|\n",
      "|         14|   61|\n",
      "|          3|   60|\n",
      "|          5|   58|\n",
      "|         16|   57|\n",
      "|          4|   57|\n",
      "|         11|   56|\n",
      "|         12|   51|\n",
      "+-----------+-----+\n",
      "\n"
     ]
    }
   ],
   "source": [
    "film_category_df \\\n",
    "    .groupBy(['category_id']) \\\n",
    "    .count() \\\n",
    "    .orderBy(F.desc('count')) \\\n",
    "    .show()"
   ]
  },
  {
   "cell_type": "markdown",
   "metadata": {
    "collapsed": false,
    "jupyter": {
     "outputs_hidden": false
    }
   },
   "source": [
    "2.\n",
    "Вивести 10 акторів, чиї фільми брали на прокат найбільше.\n",
    "Результат відсортувати за спаданням."
   ]
  },
  {
   "cell_type": "code",
   "execution_count": 30,
   "metadata": {
    "collapsed": false,
    "jupyter": {
     "outputs_hidden": false
    }
   },
   "outputs": [
    {
     "name": "stdout",
     "output_type": "stream",
     "text": [
      "+----------------+\n",
      "|  Popular Actors|\n",
      "+----------------+\n",
      "|PENELOPE GUINESS|\n",
      "|   NICK WAHLBERG|\n",
      "| BETTE NICHOLSON|\n",
      "| CHRISTIAN GABLE|\n",
      "|      KARL BERRY|\n",
      "|    CUBA OLIVIER|\n",
      "|    CUBA OLIVIER|\n",
      "|        DAN TORN|\n",
      "|   LUCILLE TRACY|\n",
      "|    RIP CRAWFORD|\n",
      "+----------------+\n",
      "\n"
     ]
    }
   ],
   "source": [
    "top_10_film_rentals_df = inventory_df \\\n",
    "    .groupBy(['film_id']) \\\n",
    "    .count() \\\n",
    "    .orderBy(F.desc('count')) \\\n",
    "    .limit(10) \\\n",
    "\n",
    "popular_actors_df = film_actor_df \\\n",
    "    .join(top_10_film_rentals_df, top_10_film_rentals_df['film_id'] == film_actor_df['film_id']) \\\n",
    "    .join(actor_df, actor_df['actor_id'] == film_actor_df['actor_id'], 'inner') \\\n",
    "    .select(F.concat(actor_df['first_name'], F.lit(' '), actor_df['last_name']).alias('Popular Actors')) \\\n",
    "\n",
    "popular_actors_df \\\n",
    "    .limit(10) \\\n",
    "    .show()"
   ]
  },
  {
   "cell_type": "markdown",
   "metadata": {
    "collapsed": false,
    "jupyter": {
     "outputs_hidden": false
    }
   },
   "source": [
    "3.\n",
    "Вивести категорія фільмів, на яку було витрачено найбільше грошей\n",
    "в прокаті"
   ]
  },
  {
   "cell_type": "code",
   "execution_count": 31,
   "metadata": {
    "collapsed": false,
    "jupyter": {
     "outputs_hidden": false
    }
   },
   "outputs": [
    {
     "name": "stdout",
     "output_type": "stream",
     "text": [
      "+-----------+------------------+\n",
      "|       name|           revenue|\n",
      "+-----------+------------------+\n",
      "|     Sports| 5314.209999999843|\n",
      "|     Sci-Fi| 4756.979999999873|\n",
      "|  Animation| 4656.299999999867|\n",
      "|      Drama|4587.3899999998885|\n",
      "|     Comedy| 4383.579999999895|\n",
      "|     Action| 4375.849999999871|\n",
      "|        New| 4361.569999999892|\n",
      "|      Games| 4281.329999999897|\n",
      "|    Foreign| 4270.669999999886|\n",
      "|     Family| 4226.069999999887|\n",
      "|Documentary| 4217.519999999893|\n",
      "|     Horror|  3722.53999999992|\n",
      "|   Children|3655.5499999999115|\n",
      "|   Classics|3639.5899999999156|\n",
      "|     Travel|3549.6399999999226|\n",
      "|      Music|3417.7199999999216|\n",
      "+-----------+------------------+\n",
      "\n"
     ]
    }
   ],
   "source": [
    "category_payment_rentals_df = film_category_df \\\n",
    "    .join(inventory_df, inventory_df['film_id'] == film_category_df['film_id']) \\\n",
    "    .join(rental_df, inventory_df['inventory_id'] == rental_df['inventory_id']) \\\n",
    "    .join(payment_df, payment_df['rental_id'] == rental_df['rental_id'])\n",
    "\n",
    "category_revenue_df = category_payment_rentals_df \\\n",
    "    .groupBy('category_id') \\\n",
    "    .agg(F.sum(\"amount\").alias(\"revenue\")) \\\n",
    "\n",
    "category_df \\\n",
    "    .join(category_revenue_df, category_revenue_df['category_id'] == category_df['category_id']) \\\n",
    "    .orderBy(F.desc(category_revenue_df['revenue'])) \\\n",
    "    .select([category_df['name'], category_revenue_df['revenue']]) \\\n",
    "    .show()"
   ]
  },
  {
   "cell_type": "markdown",
   "metadata": {
    "collapsed": false,
    "jupyter": {
     "outputs_hidden": false
    }
   },
   "source": [
    "4.\n",
    "Вивести назви фільмів, яких не має в inventory."
   ]
  },
  {
   "cell_type": "code",
   "execution_count": 32,
   "metadata": {
    "collapsed": false,
    "jupyter": {
     "outputs_hidden": false
    }
   },
   "outputs": [
    {
     "name": "stdout",
     "output_type": "stream",
     "text": [
      "+--------------------+\n",
      "|               title|\n",
      "+--------------------+\n",
      "|      ALICE FANTASIA|\n",
      "|         APOLLO TEEN|\n",
      "|      ARGONAUTS TOWN|\n",
      "|       ARK RIDGEMONT|\n",
      "|ARSENIC INDEPENDENCE|\n",
      "|   BOONDOCK BALLROOM|\n",
      "|       BUTCH PANTHER|\n",
      "|       CATCH AMISTAD|\n",
      "| CHINATOWN GLADIATOR|\n",
      "|      CHOCOLATE DUCK|\n",
      "|COMMANDMENTS EXPRESS|\n",
      "|    CROSSING DIVORCE|\n",
      "|     CROWDS TELEMARK|\n",
      "|    CRYSTAL BREAKING|\n",
      "|          DAZED PUNK|\n",
      "|DELIVERANCE MULHO...|\n",
      "|   FIREHOUSE VIETNAM|\n",
      "|       FLOATS GARDEN|\n",
      "|FRANKENSTEIN STRA...|\n",
      "|  GLADIATOR WESTWARD|\n",
      "+--------------------+\n",
      "only showing top 20 rows\n",
      "\n"
     ]
    }
   ],
   "source": [
    "distinct_films_in_inventory_df = inventory_df \\\n",
    "    .select(inventory_df['film_id']) \\\n",
    "    .distinct()\n",
    "\n",
    "film_df \\\n",
    "    .join(distinct_films_in_inventory_df, distinct_films_in_inventory_df['film_id'] == film_df['film_id'], 'left_anti') \\\n",
    "    .select('title') \\\n",
    "    .show()"
   ]
  },
  {
   "cell_type": "markdown",
   "metadata": {
    "collapsed": false,
    "jupyter": {
     "outputs_hidden": false
    }
   },
   "source": [
    "5.\n",
    "Вивести топ 3 актори, які найбільше зʼявлялись в категорії фільмів “Children”"
   ]
  },
  {
   "cell_type": "code",
   "execution_count": 34,
   "metadata": {
    "collapsed": false,
    "jupyter": {
     "outputs_hidden": false
    },
    "pycharm": {
     "is_executing": true
    }
   },
   "outputs": [
    {
     "name": "stdout",
     "output_type": "stream",
     "text": [
      "+--------+-----------------------+---------------+\n",
      "|actor_id|number_of_movies_played|actor_full_name|\n",
      "+--------+-----------------------+---------------+\n",
      "|     157|                     32|   GRETA MALDEN|\n",
      "|     168|                     31|    WILL WILSON|\n",
      "|     149|                     31| RUSSELL TEMPLE|\n",
      "+--------+-----------------------+---------------+\n",
      "\n"
     ]
    }
   ],
   "source": [
    "children_movies_df = film_df \\\n",
    "    .join(film_category_df, film_category_df['film_id'] == film_df['film_id'], 'inner') \\\n",
    "    .filter(film_category_df['category_id'] == 3) \\\n",
    "    .select([film_df['film_id']])\n",
    "\n",
    "actors_in_children_movies_df = actor_df \\\n",
    "    .join(film_actor_df, film_actor_df['actor_id'] == actor_df['actor_id'], 'inner') \\\n",
    "    .join(children_movies_df, children_movies_df['film_id'] == film_actor_df['actor_id'], 'inner') \\\n",
    "    .select([\n",
    "        film_actor_df['actor_id'].alias('actor_id'),\n",
    "        F.concat(\n",
    "            actor_df['first_name'],\n",
    "            F.lit(\" \"),\n",
    "            actor_df['last_name']).alias('actor_full_name')\n",
    "    ])\n",
    "\n",
    "actors_in_children_movies_df \\\n",
    "    .groupBy('actor_id', 'actor_full_name') \\\n",
    "    .agg(F.count('actor_id').alias('number_of_movies_played')) \\\n",
    "    .select(['actor_id', 'number_of_movies_played', 'actor_full_name']) \\\n",
    "    .orderBy(F.desc('number_of_movies_played')) \\\n",
    "    .limit(3) \\\n",
    "    .show()"
   ]
  },
  {
   "cell_type": "markdown",
   "metadata": {
    "collapsed": false,
    "jupyter": {
     "outputs_hidden": false
    }
   },
   "source": [
    "Stop Spark session:"
   ]
  },
  {
   "cell_type": "code",
   "execution_count": 35,
   "metadata": {
    "collapsed": false,
    "jupyter": {
     "outputs_hidden": false
    }
   },
   "outputs": [],
   "source": [
    "spark.stop()"
   ]
  },
  {
   "cell_type": "code",
   "execution_count": null,
   "metadata": {},
   "outputs": [],
   "source": []
  }
 ],
 "metadata": {
  "kernelspec": {
   "display_name": "Python 3 (ipykernel)",
   "language": "python",
   "name": "python3"
  },
  "language_info": {
   "codemirror_mode": {
    "name": "ipython",
    "version": 3
   },
   "file_extension": ".py",
   "mimetype": "text/x-python",
   "name": "python",
   "nbconvert_exporter": "python",
   "pygments_lexer": "ipython3",
   "version": "3.10.12"
  }
 },
 "nbformat": 4,
 "nbformat_minor": 4
}
